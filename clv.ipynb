{
 "cells": [
  {
   "cell_type": "markdown",
   "metadata": {},
   "source": [
    "**Customer Lifetime Value analysis**\n",
    "\n",
    "Problem: How much to spend on acquiring new customers?\n",
    "\n",
    "*What is the expected lifetime on the platform, and how much do they bring in on average*\n",
    "\n",
    "Factors to consider:\n",
    "- purchase frequency\n",
    "- average order value\n",
    "- average customer lifespan"
   ]
  },
  {
   "cell_type": "code",
   "execution_count": 5,
   "metadata": {},
   "outputs": [
    {
     "name": "stdout",
     "output_type": "stream",
     "text": [
      "                userID   cohort  M1_retention                   id  \\\n",
      "0   833181563296211638  2023-03             1  4648711062057701806   \n",
      "1  7763311846463275691  2022-11             1  1676056141507951956   \n",
      "2  8919282109171104948  2022-10             0  7745602867536251060   \n",
      "3  5785370845306063462  2022-11             0  7319989469562109720   \n",
      "4  8918527236425591239  2022-09             1  8979946097528312402   \n",
      "\n",
      "             createdAt   sales              partner segment  \n",
      "0  2023-08-31 10:14:49  1000.0  3518867990385707647    meal  \n",
      "1  2023-03-21 17:04:54   400.0  6413422964860176913    meal  \n",
      "2  2023-07-19 09:48:28   680.0   123356649204044788   snack  \n",
      "3  2023-08-10 12:29:01  1099.0  7268869293921836511    meal  \n",
      "4  2022-10-03 09:55:15   200.0  7530970657789428790   snack  \n"
     ]
    }
   ],
   "source": [
    "import pandas as pd\n",
    "import sqlite3\n",
    "\n",
    "conn = sqlite3.connect('mock_resq.db')\n",
    "\n",
    "df = pd.read_sql_query(\"SELECT * FROM presentation_table\", conn)\n",
    "conn.close()\n",
    "\n",
    "print(df.head())"
   ]
  },
  {
   "cell_type": "code",
   "execution_count": null,
   "metadata": {},
   "outputs": [],
   "source": []
  }
 ],
 "metadata": {
  "kernelspec": {
   "display_name": "myenv",
   "language": "python",
   "name": "python3"
  },
  "language_info": {
   "codemirror_mode": {
    "name": "ipython",
    "version": 3
   },
   "file_extension": ".py",
   "mimetype": "text/x-python",
   "name": "python",
   "nbconvert_exporter": "python",
   "pygments_lexer": "ipython3",
   "version": "3.12.3"
  }
 },
 "nbformat": 4,
 "nbformat_minor": 2
}
