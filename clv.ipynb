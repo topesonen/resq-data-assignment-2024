{
 "cells": [
  {
   "cell_type": "markdown",
   "metadata": {},
   "source": [
    "**Customer Lifetime Value analysis**\n",
    "\n",
    "Problem: How much to spend on acquiring new customers?\n",
    "\n",
    "*What is the expected lifetime on the platform, and how much do they bring in on average*\n",
    "\n",
    "Factors to consider:\n",
    "- purchase frequency (simplify to purchases ever, not for example how often in a year?)\n",
    "- average order value\n",
    "- average customer lifespan (for this we might use some survival analysis method, but that's for another day)"
   ]
  },
  {
   "cell_type": "code",
   "execution_count": 105,
   "metadata": {},
   "outputs": [
    {
     "name": "stdout",
     "output_type": "stream",
     "text": [
      "                userID   cohort  M1_retention                   id  \\\n",
      "0   833181563296211638  2023-03             1  4648711062057701806   \n",
      "1  7763311846463275691  2022-11             1  1676056141507951956   \n",
      "2  8919282109171104948  2022-10             0  7745602867536251060   \n",
      "3  5785370845306063462  2022-11             0  7319989469562109720   \n",
      "4  8918527236425591239  2022-09             1  8979946097528312402   \n",
      "\n",
      "             createdAt   sales              partner segment  \n",
      "0  2023-08-31 10:14:49  1000.0  3518867990385707647    meal  \n",
      "1  2023-03-21 17:04:54   400.0  6413422964860176913    meal  \n",
      "2  2023-07-19 09:48:28   680.0   123356649204044788   snack  \n",
      "3  2023-08-10 12:29:01  1099.0  7268869293921836511    meal  \n",
      "4  2022-10-03 09:55:15   200.0  7530970657789428790   snack  \n",
      "\n",
      "<class 'pandas.core.frame.DataFrame'>\n",
      "RangeIndex: 299971 entries, 0 to 299970\n",
      "Data columns (total 8 columns):\n",
      " #   Column        Non-Null Count   Dtype  \n",
      "---  ------        --------------   -----  \n",
      " 0   userID        299971 non-null  int64  \n",
      " 1   cohort        299971 non-null  object \n",
      " 2   M1_retention  299971 non-null  int64  \n",
      " 3   id            299971 non-null  int64  \n",
      " 4   createdAt     299971 non-null  object \n",
      " 5   sales         299971 non-null  float64\n",
      " 6   partner       299971 non-null  int64  \n",
      " 7   segment       299971 non-null  object \n",
      "dtypes: float64(1), int64(4), object(3)\n",
      "memory usage: 18.3+ MB\n",
      "None\n"
     ]
    }
   ],
   "source": [
    "import pandas as pd\n",
    "import sqlite3\n",
    "import matplotlib.pyplot as plt\n",
    "import seaborn as sns\n",
    "\n",
    "\n",
    "conn = sqlite3.connect('mock_resq.db')\n",
    "\n",
    "df = pd.read_sql_query(\"SELECT * FROM presentation_table\", conn)\n",
    "conn.close()\n",
    "\n",
    "print(df.head())\n",
    "print()\n",
    "print(df.info())"
   ]
  },
  {
   "cell_type": "code",
   "execution_count": 106,
   "metadata": {},
   "outputs": [],
   "source": [
    "# Change dates to datetime\n",
    "df['cohort'] = pd.to_datetime(df['cohort'])\n",
    "df['createdAt'] = pd.to_datetime(df['createdAt'])"
   ]
  },
  {
   "cell_type": "code",
   "execution_count": 113,
   "metadata": {},
   "outputs": [
    {
     "name": "stdout",
     "output_type": "stream",
     "text": [
      "Average order value: 7.70 euros\n"
     ]
    }
   ],
   "source": [
    "# Let's start with average order value, since it's the simplest\n",
    "\n",
    "aov = df['sales'].mean() / 100\n",
    "print(f'Average order value: {aov:.2f} euros')"
   ]
  },
  {
   "cell_type": "code",
   "execution_count": 108,
   "metadata": {},
   "outputs": [
    {
     "name": "stdout",
     "output_type": "stream",
     "text": [
      "The average customer makes 2.435 purchases in their lifetime\n",
      "\n",
      "n orders and their percentage\n",
      "counts\n",
      "1      0.539421\n",
      "2      0.197300\n",
      "3      0.094961\n",
      "4      0.053633\n",
      "5      0.032189\n",
      "         ...   \n",
      "72     0.000008\n",
      "76     0.000008\n",
      "95     0.000008\n",
      "57     0.000008\n",
      "266    0.000008\n",
      "Name: proportion, Length: 63, dtype: float64\n",
      "\n",
      "53.94% of customers have made only one order\n",
      "37.81% of customers have made between 2 and 5 orders\n",
      "8.25% of customers have made more than 5 orders\n"
     ]
    }
   ],
   "source": [
    "# Purchase frequency\n",
    "# We are be interested in how many puchases an average customer makes \n",
    "\n",
    "per_customer = df.groupby('userID').size()\n",
    "avg_purchases = per_customer.mean()\n",
    "print(f'The average customer makes {avg_purchases:.3f} purchases in their lifetime')\n",
    "# note: this also works: len(df) / len(df.groupby('userID').size())\n",
    "\n",
    "counts_df = df['userID'].value_counts().reset_index(name='counts')\n",
    "\n",
    "# normalized df shows the % of each order count\n",
    "norm_counts_df = counts_df['counts'].value_counts(normalize=True)\n",
    "print()\n",
    "print('n orders and their percentage')\n",
    "print(norm_counts_df)\n",
    "print()\n",
    "\n",
    "prop_only_one_order = counts_df['counts'].value_counts(normalize=True)[1]\n",
    "print(f'{100 * prop_only_one_order:.2f}% of customers have made only one order')\n",
    "print(f'{100*counts_df['counts'].value_counts(normalize=True)[1:5].sum():.2f}% of customers have made between 2 and 5 orders')\n",
    "print(f'{100*counts_df['counts'].value_counts(normalize=True)[5:].sum():.2f}% of customers have made more than 5 orders')\n",
    "\n",
    "# recurring customers df of those who return for a second order\n",
    "# MIGHT NOT NEED THIS?\n",
    "rc_df = df[df['userID'].isin(counts_df[counts_df['counts'] > 1]['userID'])]\n",
    "#rc_df "
   ]
  },
  {
   "cell_type": "code",
   "execution_count": 111,
   "metadata": {},
   "outputs": [
    {
     "name": "stdout",
     "output_type": "stream",
     "text": [
      "Average lifespan for recurring customers: 167.12 days\n"
     ]
    }
   ],
   "source": [
    "# average customer lifespan \n",
    "# we can for example use the recurring customers and calculate:\n",
    "# last order date - first order date\n",
    "\n",
    "user_lifespans = rc_df.groupby('userID').agg({\n",
    "    'createdAt': [\n",
    "        ('first_purchase', 'min'),\n",
    "        ('last_purchase', 'max'),\n",
    "        ('purchase_count', 'count')\n",
    "    ]\n",
    "})\n",
    "user_lifespans.columns = ['first_purchase', 'last_purchase', 'purchase_count']\n",
    "user_lifespans['lifespan'] = (user_lifespans['last_purchase'] - user_lifespans['first_purchase']).dt.days\n",
    "avg_lifespan_days = user_lifespans['lifespan'].mean()\n",
    "\n",
    "print(f\"Average lifespan for recurring customers: {avg_lifespan_days:.2f} days\")"
   ]
  },
  {
   "cell_type": "code",
   "execution_count": 118,
   "metadata": {},
   "outputs": [
    {
     "name": "stdout",
     "output_type": "stream",
     "text": [
      "Average Customer Lifetime Value: 18.76 euros\n",
      "Average revenue per day: 0.11 euros\n",
      "Average time between purchases: 68.64 days\n"
     ]
    }
   ],
   "source": [
    "# Customer Lifetime Value\n",
    "# CLV = average order value * average purchases\n",
    "\n",
    "clv = aov * avg_purchases\n",
    "print(f'Average Customer Lifetime Value: {clv:.2f} euros')\n",
    "print(f\"Average revenue per day: {clv / avg_lifespan_days:.2f} euros\")\n",
    "print(f\"Average time between purchases: {avg_lifespan_days / avg_purchases:.2f} days\")\n"
   ]
  }
 ],
 "metadata": {
  "kernelspec": {
   "display_name": "myenv",
   "language": "python",
   "name": "python3"
  },
  "language_info": {
   "codemirror_mode": {
    "name": "ipython",
    "version": 3
   },
   "file_extension": ".py",
   "mimetype": "text/x-python",
   "name": "python",
   "nbconvert_exporter": "python",
   "pygments_lexer": "ipython3",
   "version": "3.12.3"
  }
 },
 "nbformat": 4,
 "nbformat_minor": 2
}
