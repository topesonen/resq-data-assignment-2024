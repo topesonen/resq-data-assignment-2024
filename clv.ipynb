{
 "cells": [
  {
   "cell_type": "markdown",
   "metadata": {},
   "source": [
    "**Customer Lifetime Value analysis**\n",
    "\n",
    "resq-data-assignment-2024\n",
    "Topias Pesonen\n",
    "topias.pesonen@gmail.com\n",
    "\n",
    "Problem: How much to spend on acquiring new customers?\n",
    "\n",
    "*What is the expected lifetime on the platform, and how much do they bring in on average*\n",
    "\n",
    "Factors to consider:\n",
    "- purchase frequency (simplify to number of purchases *ever*, not for example how often in a year?)\n",
    "- average order value\n",
    "- average customer lifespan (for this we might use some survival analysis method, but that's for another day)\n",
    "\n",
    "\n",
    "Questions to consider:\n",
    "- should we remove refunds from sales?\n",
    "- we should use net profit instead of revenue"
   ]
  },
  {
   "cell_type": "code",
   "execution_count": 122,
   "metadata": {},
   "outputs": [
    {
     "name": "stdout",
     "output_type": "stream",
     "text": [
      "                id               userID     cohort  M1_retention  \\\n",
      "0   15079796150070  1651090691146392618 2022-10-01             1   \n",
      "1   81169833397043  7338126717742165249 2022-11-01             0   \n",
      "2  126451530207724  4654198358962600528 2023-07-01             1   \n",
      "3  131192980331210  2157947595893547130 2022-12-01             0   \n",
      "4  171979511824449  7588211493098786060 2022-10-01             1   \n",
      "\n",
      "            createdAt   sales              partner segment  \n",
      "0 2023-08-01 08:01:14   650.0  3158809927039353473    meal  \n",
      "1 2023-10-13 07:23:57   150.0  3186777369203625736    meal  \n",
      "2 2023-08-21 10:38:54  1000.0  1544951218129901618    meal  \n",
      "3 2023-08-15 12:33:50   800.0  7014807967414306862    meal  \n",
      "4 2023-06-07 05:44:16   200.0  1688430276435400909    meal  \n",
      "\n",
      "<class 'pandas.core.frame.DataFrame'>\n",
      "RangeIndex: 299971 entries, 0 to 299970\n",
      "Data columns (total 8 columns):\n",
      " #   Column        Non-Null Count   Dtype         \n",
      "---  ------        --------------   -----         \n",
      " 0   id            299971 non-null  int64         \n",
      " 1   userID        299971 non-null  int64         \n",
      " 2   cohort        299971 non-null  datetime64[ns]\n",
      " 3   M1_retention  299971 non-null  int64         \n",
      " 4   createdAt     299971 non-null  datetime64[ns]\n",
      " 5   sales         299971 non-null  float64       \n",
      " 6   partner       299971 non-null  int64         \n",
      " 7   segment       299971 non-null  object        \n",
      "dtypes: datetime64[ns](2), float64(1), int64(4), object(1)\n",
      "memory usage: 18.3+ MB\n",
      "None\n"
     ]
    }
   ],
   "source": [
    "import pandas as pd\n",
    "import sqlite3\n",
    "import matplotlib.pyplot as plt\n",
    "import seaborn as sns\n",
    "\n",
    "conn = sqlite3.connect('mock_resq.db')\n",
    "\n",
    "df = pd.read_sql_query(\"SELECT * FROM presentation_table\", conn)\n",
    "conn.close()\n",
    "\n",
    "# Change dates to datetime\n",
    "df['cohort'] = pd.to_datetime(df['cohort'])\n",
    "df['createdAt'] = pd.to_datetime(df['createdAt'])\n",
    "\n",
    "print(df.head())\n",
    "print()\n",
    "print(df.info())"
   ]
  },
  {
   "cell_type": "code",
   "execution_count": 123,
   "metadata": {},
   "outputs": [
    {
     "name": "stdout",
     "output_type": "stream",
     "text": [
      "Average order value: 7.70 euros\n"
     ]
    }
   ],
   "source": [
    "# Let's start with average order value, since it's the simplest\n",
    "\n",
    "aov = df['sales'].mean() / 100\n",
    "print(f'Average order value: {aov:.2f} euros')"
   ]
  },
  {
   "cell_type": "code",
   "execution_count": 124,
   "metadata": {},
   "outputs": [
    {
     "name": "stdout",
     "output_type": "stream",
     "text": [
      "The average customer makes 2.435 purchases in their lifetime\n",
      "\n",
      "n orders and their percentage\n",
      "counts\n",
      "1      0.539421\n",
      "2      0.197300\n",
      "3      0.094961\n",
      "4      0.053633\n",
      "5      0.032189\n",
      "         ...   \n",
      "72     0.000008\n",
      "76     0.000008\n",
      "95     0.000008\n",
      "57     0.000008\n",
      "266    0.000008\n",
      "Name: proportion, Length: 63, dtype: float64\n",
      "\n",
      "53.94% of customers have made only one order\n",
      "37.81% of customers have made between 2 and 5 orders\n",
      "8.25% of customers have made more than 5 orders\n"
     ]
    }
   ],
   "source": [
    "# Purchase frequency\n",
    "# We are interested in how many puchases an average customer makes \n",
    "\n",
    "per_customer = df.groupby('userID').size()\n",
    "avg_purchases = per_customer.mean()\n",
    "print(f'The average customer makes {avg_purchases:.3f} purchases in their lifetime')\n",
    "# note: this also works: len(df) / len(df.groupby('userID').size())\n",
    "\n",
    "counts_df = df['userID'].value_counts().reset_index(name='counts')\n",
    "\n",
    "# normalized df shows the % of each order count\n",
    "norm_counts_df = counts_df['counts'].value_counts(normalize=True)\n",
    "print()\n",
    "print('n orders and their percentage')\n",
    "print(norm_counts_df)\n",
    "print()\n",
    "\n",
    "prop_only_one_order = counts_df['counts'].value_counts(normalize=True)[1]\n",
    "print(f'{100 * prop_only_one_order:.2f}% of customers have made only one order')\n",
    "print(f'{100*counts_df['counts'].value_counts(normalize=True)[1:5].sum():.2f}% of customers have made between 2 and 5 orders')\n",
    "print(f'{100*counts_df['counts'].value_counts(normalize=True)[5:].sum():.2f}% of customers have made more than 5 orders')\n",
    "\n",
    "# recurring customers df of those who return for a second order\n",
    "rc_df = df[df['userID'].isin(counts_df[counts_df['counts'] > 1]['userID'])]\n",
    "#rc_df "
   ]
  },
  {
   "cell_type": "code",
   "execution_count": 125,
   "metadata": {},
   "outputs": [
    {
     "name": "stdout",
     "output_type": "stream",
     "text": [
      "Average lifespan for recurring customers: 167.12 days\n"
     ]
    }
   ],
   "source": [
    "# average customer lifespan \n",
    "# we can use the recurring customers and calculate:\n",
    "# last order date - first order date\n",
    "\n",
    "user_lifespans = rc_df.groupby('userID').agg({\n",
    "    'createdAt': [\n",
    "        ('first_purchase', 'min'),\n",
    "        ('last_purchase', 'max'),\n",
    "        ('purchase_count', 'count')\n",
    "    ]\n",
    "})\n",
    "user_lifespans.columns = ['first_purchase', 'last_purchase', 'purchase_count']\n",
    "user_lifespans['lifespan'] = (user_lifespans['last_purchase'] - user_lifespans['first_purchase']).dt.days\n",
    "avg_lifespan_days = user_lifespans['lifespan'].mean()\n",
    "\n",
    "print(f\"Average lifespan for recurring customers: {avg_lifespan_days:.2f} days\")"
   ]
  },
  {
   "cell_type": "code",
   "execution_count": 126,
   "metadata": {},
   "outputs": [
    {
     "name": "stdout",
     "output_type": "stream",
     "text": [
      "Average Customer Lifetime Value: 18.76 euros\n",
      "Average revenue per day: 0.11 euros\n",
      "Average time between purchases: 68.64 days\n"
     ]
    }
   ],
   "source": [
    "# Customer Lifetime Value\n",
    "# CLV = average order value * average purchases\n",
    "\n",
    "clv = aov * avg_purchases\n",
    "print(f'Average Customer Lifetime Value: {clv:.2f} euros')\n",
    "print(f\"Average Revenue per day: {clv / avg_lifespan_days:.2f} euros\")\n",
    "print(f\"Average time between purchases: {avg_lifespan_days / avg_purchases:.2f} days\")\n"
   ]
  }
 ],
 "metadata": {
  "kernelspec": {
   "display_name": "myenv",
   "language": "python",
   "name": "python3"
  },
  "language_info": {
   "codemirror_mode": {
    "name": "ipython",
    "version": 3
   },
   "file_extension": ".py",
   "mimetype": "text/x-python",
   "name": "python",
   "nbconvert_exporter": "python",
   "pygments_lexer": "ipython3",
   "version": "3.12.3"
  }
 },
 "nbformat": 4,
 "nbformat_minor": 2
}
